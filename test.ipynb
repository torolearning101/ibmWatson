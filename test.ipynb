{
    "cells": [
        {
            "metadata": {},
            "cell_type": "markdown",
            "source": "### My Jupyter Notebook on IBM Watson Sutio"
        },
        {
            "metadata": {},
            "cell_type": "markdown",
            "source": "__Alan S. Li__\n\nSoftware engineer\n"
        },
        {
            "metadata": {},
            "cell_type": "markdown",
            "source": "*I am interested in data science because of the job trend and oppertunity in the future market demands.*"
        },
        {
            "metadata": {},
            "cell_type": "markdown",
            "source": "### This is a simple square root operation of number 9"
        },
        {
            "metadata": {},
            "cell_type": "code",
            "source": "import math\nmath.sqrt(9)",
            "execution_count": 3,
            "outputs": [
                {
                    "output_type": "execute_result",
                    "execution_count": 3,
                    "data": {
                        "text/plain": "3.0"
                    },
                    "metadata": {}
                }
            ]
        },
        {
            "metadata": {},
            "cell_type": "markdown",
            "source": "#### showing at least three of the following\n1. numbered list\n1. hyperlinks [link to Google website](http://www.google.com)\n1. code section <br>\n    <code> Python\n    str = \"This is a block level code\"\n    print(str)\n    </code>\n1. horizontal lines \n***\n\n#### not showing the followings\n- tables\n- images\n"
        },
        {
            "metadata": {},
            "cell_type": "code",
            "source": "",
            "execution_count": null,
            "outputs": []
        }
    ],
    "metadata": {
        "kernelspec": {
            "name": "python3",
            "display_name": "Python 3.6",
            "language": "python"
        },
        "language_info": {
            "name": "python",
            "version": "3.6.9",
            "mimetype": "text/x-python",
            "codemirror_mode": {
                "name": "ipython",
                "version": 3
            },
            "pygments_lexer": "ipython3",
            "nbconvert_exporter": "python",
            "file_extension": ".py"
        }
    },
    "nbformat": 4,
    "nbformat_minor": 1
}